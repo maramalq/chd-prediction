{
 "cells": [
  {
   "cell_type": "markdown",
   "id": "c0d672ed",
   "metadata": {},
   "source": [
    "# Data Understanding"
   ]
  },
  {
   "cell_type": "code",
   "execution_count": 1,
   "id": "b1611249",
   "metadata": {},
   "outputs": [],
   "source": [
    "# hide warnings\n",
    "import warnings\n",
    "warnings.filterwarnings('ignore')"
   ]
  },
  {
   "cell_type": "code",
   "execution_count": 2,
   "id": "c25dc319",
   "metadata": {},
   "outputs": [],
   "source": [
    "# import libraries\n",
    "import numpy as np\n",
    "import pandas as pd\n",
    "import statistics\n",
    "import matplotlib.pyplot as plt\n",
    "%matplotlib inline\n",
    "import pylab as plt\n",
    "import seaborn as sns"
   ]
  },
  {
   "cell_type": "code",
   "execution_count": 3,
   "id": "774e944f",
   "metadata": {},
   "outputs": [
    {
     "data": {
      "text/html": [
       "<div>\n",
       "<style scoped>\n",
       "    .dataframe tbody tr th:only-of-type {\n",
       "        vertical-align: middle;\n",
       "    }\n",
       "\n",
       "    .dataframe tbody tr th {\n",
       "        vertical-align: top;\n",
       "    }\n",
       "\n",
       "    .dataframe thead th {\n",
       "        text-align: right;\n",
       "    }\n",
       "</style>\n",
       "<table border=\"1\" class=\"dataframe\">\n",
       "  <thead>\n",
       "    <tr style=\"text-align: right;\">\n",
       "      <th></th>\n",
       "      <th>sbp</th>\n",
       "      <th>tobacco</th>\n",
       "      <th>ldl</th>\n",
       "      <th>adiposity</th>\n",
       "      <th>famhist</th>\n",
       "      <th>typea</th>\n",
       "      <th>obesity</th>\n",
       "      <th>alcohol</th>\n",
       "      <th>age</th>\n",
       "      <th>chd</th>\n",
       "    </tr>\n",
       "  </thead>\n",
       "  <tbody>\n",
       "    <tr>\n",
       "      <th>0</th>\n",
       "      <td>160.0</td>\n",
       "      <td>12.00</td>\n",
       "      <td>5.73</td>\n",
       "      <td>23.11</td>\n",
       "      <td>Present</td>\n",
       "      <td>49</td>\n",
       "      <td>25.30</td>\n",
       "      <td>97.20</td>\n",
       "      <td>52</td>\n",
       "      <td>1</td>\n",
       "    </tr>\n",
       "    <tr>\n",
       "      <th>1</th>\n",
       "      <td>144.0</td>\n",
       "      <td>0.01</td>\n",
       "      <td>4.41</td>\n",
       "      <td>28.61</td>\n",
       "      <td>Absent</td>\n",
       "      <td>55</td>\n",
       "      <td>28.87</td>\n",
       "      <td>2.06</td>\n",
       "      <td>63</td>\n",
       "      <td>1</td>\n",
       "    </tr>\n",
       "    <tr>\n",
       "      <th>2</th>\n",
       "      <td>118.0</td>\n",
       "      <td>0.08</td>\n",
       "      <td>3.48</td>\n",
       "      <td>32.28</td>\n",
       "      <td>Present</td>\n",
       "      <td>52</td>\n",
       "      <td>29.14</td>\n",
       "      <td>3.81</td>\n",
       "      <td>46</td>\n",
       "      <td>0</td>\n",
       "    </tr>\n",
       "    <tr>\n",
       "      <th>3</th>\n",
       "      <td>170.0</td>\n",
       "      <td>7.50</td>\n",
       "      <td>6.41</td>\n",
       "      <td>38.03</td>\n",
       "      <td>Present</td>\n",
       "      <td>51</td>\n",
       "      <td>31.99</td>\n",
       "      <td>24.26</td>\n",
       "      <td>58</td>\n",
       "      <td>1</td>\n",
       "    </tr>\n",
       "    <tr>\n",
       "      <th>4</th>\n",
       "      <td>134.0</td>\n",
       "      <td>13.60</td>\n",
       "      <td>3.50</td>\n",
       "      <td>27.78</td>\n",
       "      <td>Present</td>\n",
       "      <td>60</td>\n",
       "      <td>25.99</td>\n",
       "      <td>57.34</td>\n",
       "      <td>49</td>\n",
       "      <td>1</td>\n",
       "    </tr>\n",
       "  </tbody>\n",
       "</table>\n",
       "</div>"
      ],
      "text/plain": [
       "     sbp  tobacco   ldl  adiposity  famhist  typea  obesity  alcohol  age  chd\n",
       "0  160.0    12.00  5.73      23.11  Present     49    25.30    97.20   52    1\n",
       "1  144.0     0.01  4.41      28.61   Absent     55    28.87     2.06   63    1\n",
       "2  118.0     0.08  3.48      32.28  Present     52    29.14     3.81   46    0\n",
       "3  170.0     7.50  6.41      38.03  Present     51    31.99    24.26   58    1\n",
       "4  134.0    13.60  3.50      27.78  Present     60    25.99    57.34   49    1"
      ]
     },
     "execution_count": 3,
     "metadata": {},
     "output_type": "execute_result"
    }
   ],
   "source": [
    "# loading data\n",
    "df = pd.read_csv(\"Disease.csv\" , sep=';')\n",
    "del df['ind']\n",
    "df.head()"
   ]
  },
  {
   "cell_type": "code",
   "execution_count": 4,
   "id": "517d81d4",
   "metadata": {},
   "outputs": [
    {
     "data": {
      "text/html": [
       "<div>\n",
       "<style scoped>\n",
       "    .dataframe tbody tr th:only-of-type {\n",
       "        vertical-align: middle;\n",
       "    }\n",
       "\n",
       "    .dataframe tbody tr th {\n",
       "        vertical-align: top;\n",
       "    }\n",
       "\n",
       "    .dataframe thead th {\n",
       "        text-align: right;\n",
       "    }\n",
       "</style>\n",
       "<table border=\"1\" class=\"dataframe\">\n",
       "  <thead>\n",
       "    <tr style=\"text-align: right;\">\n",
       "      <th></th>\n",
       "      <th>sbp</th>\n",
       "      <th>tobacco</th>\n",
       "      <th>ldl</th>\n",
       "      <th>adiposity</th>\n",
       "      <th>famhist</th>\n",
       "      <th>typea</th>\n",
       "      <th>obesity</th>\n",
       "      <th>alcohol</th>\n",
       "      <th>age</th>\n",
       "      <th>chd</th>\n",
       "    </tr>\n",
       "  </thead>\n",
       "  <tbody>\n",
       "    <tr>\n",
       "      <th>457</th>\n",
       "      <td>214.0</td>\n",
       "      <td>0.4</td>\n",
       "      <td>5.98</td>\n",
       "      <td>31.72</td>\n",
       "      <td>Absent</td>\n",
       "      <td>64</td>\n",
       "      <td>28.45</td>\n",
       "      <td>0.00</td>\n",
       "      <td>58</td>\n",
       "      <td>0</td>\n",
       "    </tr>\n",
       "    <tr>\n",
       "      <th>458</th>\n",
       "      <td>182.0</td>\n",
       "      <td>4.2</td>\n",
       "      <td>4.41</td>\n",
       "      <td>32.10</td>\n",
       "      <td>Absent</td>\n",
       "      <td>52</td>\n",
       "      <td>28.61</td>\n",
       "      <td>18.72</td>\n",
       "      <td>52</td>\n",
       "      <td>1</td>\n",
       "    </tr>\n",
       "    <tr>\n",
       "      <th>459</th>\n",
       "      <td>108.0</td>\n",
       "      <td>3.0</td>\n",
       "      <td>1.59</td>\n",
       "      <td>15.23</td>\n",
       "      <td>Absent</td>\n",
       "      <td>40</td>\n",
       "      <td>20.09</td>\n",
       "      <td>26.64</td>\n",
       "      <td>55</td>\n",
       "      <td>0</td>\n",
       "    </tr>\n",
       "    <tr>\n",
       "      <th>460</th>\n",
       "      <td>118.0</td>\n",
       "      <td>5.4</td>\n",
       "      <td>11.61</td>\n",
       "      <td>30.79</td>\n",
       "      <td>Absent</td>\n",
       "      <td>64</td>\n",
       "      <td>27.35</td>\n",
       "      <td>23.97</td>\n",
       "      <td>40</td>\n",
       "      <td>0</td>\n",
       "    </tr>\n",
       "    <tr>\n",
       "      <th>461</th>\n",
       "      <td>132.0</td>\n",
       "      <td>0.0</td>\n",
       "      <td>4.82</td>\n",
       "      <td>33.41</td>\n",
       "      <td>Present</td>\n",
       "      <td>62</td>\n",
       "      <td>14.70</td>\n",
       "      <td>0.00</td>\n",
       "      <td>46</td>\n",
       "      <td>1</td>\n",
       "    </tr>\n",
       "  </tbody>\n",
       "</table>\n",
       "</div>"
      ],
      "text/plain": [
       "       sbp  tobacco    ldl  adiposity  famhist  typea  obesity  alcohol  age  \\\n",
       "457  214.0      0.4   5.98      31.72   Absent     64    28.45     0.00   58   \n",
       "458  182.0      4.2   4.41      32.10   Absent     52    28.61    18.72   52   \n",
       "459  108.0      3.0   1.59      15.23   Absent     40    20.09    26.64   55   \n",
       "460  118.0      5.4  11.61      30.79   Absent     64    27.35    23.97   40   \n",
       "461  132.0      0.0   4.82      33.41  Present     62    14.70     0.00   46   \n",
       "\n",
       "     chd  \n",
       "457    0  \n",
       "458    1  \n",
       "459    0  \n",
       "460    0  \n",
       "461    1  "
      ]
     },
     "execution_count": 4,
     "metadata": {},
     "output_type": "execute_result"
    }
   ],
   "source": [
    "df.tail()"
   ]
  },
  {
   "cell_type": "markdown",
   "id": "6e1375a7",
   "metadata": {},
   "source": [
    "### Describe data"
   ]
  },
  {
   "cell_type": "code",
   "execution_count": 5,
   "id": "bfbfffad",
   "metadata": {},
   "outputs": [
    {
     "data": {
      "text/plain": [
       "(462, 10)"
      ]
     },
     "execution_count": 5,
     "metadata": {},
     "output_type": "execute_result"
    }
   ],
   "source": [
    "# checking dataset structure\n",
    "df.shape"
   ]
  },
  {
   "cell_type": "code",
   "execution_count": 6,
   "id": "17b50c3e",
   "metadata": {},
   "outputs": [
    {
     "data": {
      "text/plain": [
       "array(['sbp', 'tobacco', 'ldl', 'adiposity', 'famhist', 'typea',\n",
       "       'obesity', 'alcohol', 'age', 'chd'], dtype=object)"
      ]
     },
     "execution_count": 6,
     "metadata": {},
     "output_type": "execute_result"
    }
   ],
   "source": [
    "# print columns names\n",
    "df.columns.values"
   ]
  },
  {
   "cell_type": "code",
   "execution_count": 7,
   "id": "7c423e6d",
   "metadata": {},
   "outputs": [
    {
     "name": "stdout",
     "output_type": "stream",
     "text": [
      "<class 'pandas.core.frame.DataFrame'>\n",
      "RangeIndex: 462 entries, 0 to 461\n",
      "Data columns (total 10 columns):\n",
      " #   Column     Non-Null Count  Dtype  \n",
      "---  ------     --------------  -----  \n",
      " 0   sbp        461 non-null    float64\n",
      " 1   tobacco    462 non-null    float64\n",
      " 2   ldl        462 non-null    float64\n",
      " 3   adiposity  461 non-null    float64\n",
      " 4   famhist    462 non-null    object \n",
      " 5   typea      462 non-null    int64  \n",
      " 6   obesity    462 non-null    float64\n",
      " 7   alcohol    461 non-null    float64\n",
      " 8   age        462 non-null    int64  \n",
      " 9   chd        462 non-null    int64  \n",
      "dtypes: float64(6), int64(3), object(1)\n",
      "memory usage: 36.2+ KB\n"
     ]
    }
   ],
   "source": [
    "# checking datatypes\n",
    "df.info()"
   ]
  },
  {
   "cell_type": "code",
   "execution_count": 8,
   "id": "03c3865e",
   "metadata": {},
   "outputs": [
    {
     "data": {
      "text/plain": [
       "RangeIndex(start=0, stop=462, step=1)"
      ]
     },
     "execution_count": 8,
     "metadata": {},
     "output_type": "execute_result"
    }
   ],
   "source": [
    "df.index"
   ]
  },
  {
   "cell_type": "markdown",
   "id": "208a9034",
   "metadata": {},
   "source": [
    "### Verify Data Quality "
   ]
  },
  {
   "cell_type": "markdown",
   "id": "d6fd2389",
   "metadata": {},
   "source": [
    "##### 1. Accuracy "
   ]
  },
  {
   "cell_type": "code",
   "execution_count": 9,
   "id": "676610e9",
   "metadata": {},
   "outputs": [
    {
     "name": "stdout",
     "output_type": "stream",
     "text": [
      "218.0\n",
      "101.0\n",
      "31.2\n",
      "0.0\n",
      "15.33\n",
      "0.98\n",
      "42.49\n",
      "6.74\n",
      "78\n",
      "13\n",
      "46.58\n",
      "14.7\n",
      "147.19\n",
      "0.0\n",
      "64\n",
      "15\n"
     ]
    }
   ],
   "source": [
    "# sbp\n",
    "print(df['sbp'].max())\n",
    "print(df['sbp'].min())\n",
    "# tobacco\n",
    "print(df['tobacco'].max())\n",
    "print(df['tobacco'].min())\n",
    "# LDL\n",
    "print(df['ldl'].max())\n",
    "print(df['ldl'].min())\n",
    "# adiposity\n",
    "print(df['adiposity'].max())\n",
    "print(df['adiposity'].min())\n",
    "# typea\n",
    "print(df['typea'].max())\n",
    "print(df['typea'].min())\n",
    "# obesity\n",
    "print(df['obesity'].max())\n",
    "print(df['obesity'].min())\n",
    "# obesity\n",
    "print(df['alcohol'].max())\n",
    "print(df['alcohol'].min())\n",
    "# age\n",
    "print(df['age'].max())\n",
    "print(df['age'].min())"
   ]
  },
  {
   "cell_type": "markdown",
   "id": "3cdc05fb",
   "metadata": {},
   "source": [
    "##### 2. Completeness "
   ]
  },
  {
   "cell_type": "code",
   "execution_count": 10,
   "id": "abf4bcb5",
   "metadata": {},
   "outputs": [
    {
     "data": {
      "text/plain": [
       "sbp          1\n",
       "tobacco      0\n",
       "ldl          0\n",
       "adiposity    1\n",
       "famhist      0\n",
       "typea        0\n",
       "obesity      0\n",
       "alcohol      1\n",
       "age          0\n",
       "chd          0\n",
       "dtype: int64"
      ]
     },
     "execution_count": 10,
     "metadata": {},
     "output_type": "execute_result"
    }
   ],
   "source": [
    "df.isnull().sum()"
   ]
  },
  {
   "cell_type": "markdown",
   "id": "235698c7",
   "metadata": {},
   "source": [
    "##### 3. Consistency "
   ]
  },
  {
   "cell_type": "code",
   "execution_count": 11,
   "id": "5aba82d1",
   "metadata": {},
   "outputs": [
    {
     "name": "stdout",
     "output_type": "stream",
     "text": [
      "['Present' 'Absent']\n",
      "[1 0]\n"
     ]
    }
   ],
   "source": [
    "print(df['famhist'].unique())\n",
    "print(df['chd'].unique())"
   ]
  },
  {
   "cell_type": "markdown",
   "id": "b6b03109",
   "metadata": {},
   "source": [
    "##### 4. Validity"
   ]
  },
  {
   "cell_type": "code",
   "execution_count": 12,
   "id": "b90b899b",
   "metadata": {},
   "outputs": [
    {
     "data": {
      "text/html": [
       "<div>\n",
       "<style scoped>\n",
       "    .dataframe tbody tr th:only-of-type {\n",
       "        vertical-align: middle;\n",
       "    }\n",
       "\n",
       "    .dataframe tbody tr th {\n",
       "        vertical-align: top;\n",
       "    }\n",
       "\n",
       "    .dataframe thead th {\n",
       "        text-align: right;\n",
       "    }\n",
       "</style>\n",
       "<table border=\"1\" class=\"dataframe\">\n",
       "  <thead>\n",
       "    <tr style=\"text-align: right;\">\n",
       "      <th></th>\n",
       "      <th>sbp</th>\n",
       "      <th>tobacco</th>\n",
       "      <th>ldl</th>\n",
       "      <th>adiposity</th>\n",
       "      <th>typea</th>\n",
       "      <th>obesity</th>\n",
       "      <th>alcohol</th>\n",
       "      <th>age</th>\n",
       "      <th>chd</th>\n",
       "    </tr>\n",
       "  </thead>\n",
       "  <tbody>\n",
       "    <tr>\n",
       "      <th>count</th>\n",
       "      <td>461.000000</td>\n",
       "      <td>462.000000</td>\n",
       "      <td>462.000000</td>\n",
       "      <td>461.000000</td>\n",
       "      <td>462.000000</td>\n",
       "      <td>462.000000</td>\n",
       "      <td>461.000000</td>\n",
       "      <td>462.000000</td>\n",
       "      <td>462.000000</td>\n",
       "    </tr>\n",
       "    <tr>\n",
       "      <th>mean</th>\n",
       "      <td>138.396963</td>\n",
       "      <td>3.635649</td>\n",
       "      <td>4.740325</td>\n",
       "      <td>25.435119</td>\n",
       "      <td>53.103896</td>\n",
       "      <td>26.044113</td>\n",
       "      <td>17.052364</td>\n",
       "      <td>42.816017</td>\n",
       "      <td>0.346320</td>\n",
       "    </tr>\n",
       "    <tr>\n",
       "      <th>std</th>\n",
       "      <td>20.463029</td>\n",
       "      <td>4.593024</td>\n",
       "      <td>2.070909</td>\n",
       "      <td>7.765163</td>\n",
       "      <td>9.817534</td>\n",
       "      <td>4.213680</td>\n",
       "      <td>24.507054</td>\n",
       "      <td>14.608956</td>\n",
       "      <td>0.476313</td>\n",
       "    </tr>\n",
       "    <tr>\n",
       "      <th>min</th>\n",
       "      <td>101.000000</td>\n",
       "      <td>0.000000</td>\n",
       "      <td>0.980000</td>\n",
       "      <td>6.740000</td>\n",
       "      <td>13.000000</td>\n",
       "      <td>14.700000</td>\n",
       "      <td>0.000000</td>\n",
       "      <td>15.000000</td>\n",
       "      <td>0.000000</td>\n",
       "    </tr>\n",
       "    <tr>\n",
       "      <th>25%</th>\n",
       "      <td>124.000000</td>\n",
       "      <td>0.052500</td>\n",
       "      <td>3.282500</td>\n",
       "      <td>19.850000</td>\n",
       "      <td>47.000000</td>\n",
       "      <td>22.985000</td>\n",
       "      <td>0.510000</td>\n",
       "      <td>31.000000</td>\n",
       "      <td>0.000000</td>\n",
       "    </tr>\n",
       "    <tr>\n",
       "      <th>50%</th>\n",
       "      <td>134.000000</td>\n",
       "      <td>2.000000</td>\n",
       "      <td>4.340000</td>\n",
       "      <td>26.130000</td>\n",
       "      <td>53.000000</td>\n",
       "      <td>25.805000</td>\n",
       "      <td>7.410000</td>\n",
       "      <td>45.000000</td>\n",
       "      <td>0.000000</td>\n",
       "    </tr>\n",
       "    <tr>\n",
       "      <th>75%</th>\n",
       "      <td>148.000000</td>\n",
       "      <td>5.500000</td>\n",
       "      <td>5.790000</td>\n",
       "      <td>31.290000</td>\n",
       "      <td>60.000000</td>\n",
       "      <td>28.497500</td>\n",
       "      <td>23.970000</td>\n",
       "      <td>55.000000</td>\n",
       "      <td>1.000000</td>\n",
       "    </tr>\n",
       "    <tr>\n",
       "      <th>max</th>\n",
       "      <td>218.000000</td>\n",
       "      <td>31.200000</td>\n",
       "      <td>15.330000</td>\n",
       "      <td>42.490000</td>\n",
       "      <td>78.000000</td>\n",
       "      <td>46.580000</td>\n",
       "      <td>147.190000</td>\n",
       "      <td>64.000000</td>\n",
       "      <td>1.000000</td>\n",
       "    </tr>\n",
       "  </tbody>\n",
       "</table>\n",
       "</div>"
      ],
      "text/plain": [
       "              sbp     tobacco         ldl   adiposity       typea     obesity  \\\n",
       "count  461.000000  462.000000  462.000000  461.000000  462.000000  462.000000   \n",
       "mean   138.396963    3.635649    4.740325   25.435119   53.103896   26.044113   \n",
       "std     20.463029    4.593024    2.070909    7.765163    9.817534    4.213680   \n",
       "min    101.000000    0.000000    0.980000    6.740000   13.000000   14.700000   \n",
       "25%    124.000000    0.052500    3.282500   19.850000   47.000000   22.985000   \n",
       "50%    134.000000    2.000000    4.340000   26.130000   53.000000   25.805000   \n",
       "75%    148.000000    5.500000    5.790000   31.290000   60.000000   28.497500   \n",
       "max    218.000000   31.200000   15.330000   42.490000   78.000000   46.580000   \n",
       "\n",
       "          alcohol         age         chd  \n",
       "count  461.000000  462.000000  462.000000  \n",
       "mean    17.052364   42.816017    0.346320  \n",
       "std     24.507054   14.608956    0.476313  \n",
       "min      0.000000   15.000000    0.000000  \n",
       "25%      0.510000   31.000000    0.000000  \n",
       "50%      7.410000   45.000000    0.000000  \n",
       "75%     23.970000   55.000000    1.000000  \n",
       "max    147.190000   64.000000    1.000000  "
      ]
     },
     "execution_count": 12,
     "metadata": {},
     "output_type": "execute_result"
    }
   ],
   "source": [
    "# desribe data, to show features details\n",
    "df.describe()"
   ]
  },
  {
   "cell_type": "code",
   "execution_count": 13,
   "id": "862f9236",
   "metadata": {},
   "outputs": [
    {
     "data": {
      "image/png": "[encoded data removed]",
      "text/plain": [
       "<Figure size 720x432 with 8 Axes>"
      ]
     },
     "metadata": {
      "needs_background": "light"
     },
     "output_type": "display_data"
    }
   ],
   "source": [
    "plt.subplot(241)\n",
    "df['sbp'].plot.box(figsize=(10,6), color ='#5ab3b4' )\n",
    "plt.tight_layout(pad=0.5)\n",
    "plt.subplot(242)\n",
    "df['tobacco'].plot.box( color ='#5ab3b4')\n",
    "plt.tight_layout(pad=0.5)\n",
    "plt.subplot(243)\n",
    "df['ldl'].plot.box(color ='#5ab3b4')\n",
    "plt.tight_layout(pad=0.5)\n",
    "plt.subplot(244)\n",
    "df['adiposity'].plot.box(color ='#5ab3b4')\n",
    "plt.tight_layout(pad=0.5)\n",
    "\n",
    "plt.subplot(245)\n",
    "df['typea'].plot.box(color ='#5ab3b4')\n",
    "plt.tight_layout(pad=0.5)\n",
    "plt.subplot(246)\n",
    "df['obesity'].plot.box(color ='#5ab3b4')\n",
    "plt.tight_layout(pad=0.5)\n",
    "plt.subplot(247)\n",
    "df['alcohol'].plot.box(color ='#5ab3b4')\n",
    "plt.tight_layout(pad=0.5)\n",
    "plt.subplot(248)\n",
    "df['age'].plot.box(color ='#5ab3b4')\n",
    "plt.tight_layout(pad=0.5)"
   ]
  },
  {
   "cell_type": "code",
   "execution_count": 14,
   "id": "34465884",
   "metadata": {},
   "outputs": [
    {
     "name": "stdout",
     "output_type": "stream",
     "text": [
      "number of sbp outliers: 15\n",
      "max outlier value: 218.0\n",
      "min outlier value: 188.0\n",
      "number of tobacco outliers: 19\n",
      "max outlier value: 31.2\n",
      "min outlier value: 13.8\n",
      "number of ldl outliers: 14\n",
      "max outlier value: 15.33\n",
      "min outlier value: 9.65\n",
      "number of adiposity outliers: 0\n",
      "max outlier value: nan\n",
      "min outlier value: nan\n",
      "number of typea outliers: 4\n",
      "max outlier value: 26\n",
      "min outlier value: 13\n",
      "number of obesity outliers: 9\n",
      "max outlier value: 46.58\n",
      "min outlier value: 14.7\n",
      "number of alcohol outliers: 32\n",
      "max outlier value: 147.19\n",
      "min outlier value: 59.79\n",
      "number of age outliers: 0\n",
      "max outlier value: nan\n",
      "min outlier value: nan\n"
     ]
    }
   ],
   "source": [
    "#create a function to find outliers using IQR\n",
    "\n",
    "def find_outliers_IQR(df):\n",
    "\n",
    "   q1=df.quantile(0.25)\n",
    "\n",
    "   q3=df.quantile(0.75)\n",
    "\n",
    "   IQR=q3-q1\n",
    "\n",
    "   outliers = df[((df<(q1-1.5*IQR)) | (df>(q3+1.5*IQR)))]\n",
    "\n",
    "   return outliers\n",
    "#sbp\n",
    "outliers = find_outliers_IQR(df['sbp'])\n",
    "print('number of sbp outliers: '+ str(len(outliers)))\n",
    "print('max outlier value: '+ str(outliers.max()))\n",
    "print('min outlier value: '+ str(outliers.min()))\n",
    "#tobacco\n",
    "outliers = find_outliers_IQR(df['tobacco'])\n",
    "print('number of tobacco outliers: '+ str(len(outliers)))\n",
    "print('max outlier value: '+ str(outliers.max()))\n",
    "print('min outlier value: '+ str(outliers.min()))\n",
    "#ldl\n",
    "outliers = find_outliers_IQR(df['ldl'])\n",
    "print('number of ldl outliers: '+ str(len(outliers)))\n",
    "print('max outlier value: '+ str(outliers.max()))\n",
    "print('min outlier value: '+ str(outliers.min()))\n",
    "#adiposity\n",
    "outliers = find_outliers_IQR(df['adiposity'])\n",
    "print('number of adiposity outliers: '+ str(len(outliers)))\n",
    "print('max outlier value: '+ str(outliers.max()))\n",
    "print('min outlier value: '+ str(outliers.min()))\n",
    "#typea\n",
    "outliers = find_outliers_IQR(df['typea'])\n",
    "print('number of typea outliers: '+ str(len(outliers)))\n",
    "print('max outlier value: '+ str(outliers.max()))\n",
    "print('min outlier value: '+ str(outliers.min()))\n",
    "#obesity\n",
    "outliers = find_outliers_IQR(df['obesity'])\n",
    "print('number of obesity outliers: '+ str(len(outliers)))\n",
    "print('max outlier value: '+ str(outliers.max()))\n",
    "print('min outlier value: '+ str(outliers.min()))\n",
    "#alcohol\n",
    "outliers = find_outliers_IQR(df['alcohol'])\n",
    "print('number of alcohol outliers: '+ str(len(outliers)))\n",
    "print('max outlier value: '+ str(outliers.max()))\n",
    "print('min outlier value: '+ str(outliers.min()))\n",
    "#age\n",
    "outliers = find_outliers_IQR(df['age'])\n",
    "print('number of age outliers: '+ str(len(outliers)))\n",
    "print('max outlier value: '+ str(outliers.max()))\n",
    "print('min outlier value: '+ str(outliers.min()))"
   ]
  },
  {
   "cell_type": "code",
   "execution_count": 15,
   "id": "c93359ba",
   "metadata": {},
   "outputs": [
    {
     "name": "stdout",
     "output_type": "stream",
     "text": [
      "sbp IQR= 24.0\n",
      "Lower inner fence= 88.0\n",
      "Upeer inner fence = 184.0\n",
      "Lower outer fence= 52.0\n",
      "Upper outer fence=220.0\n"
     ]
    }
   ],
   "source": [
    "#sbp\n",
    "Q1 = df['sbp'].quantile(0.25)\n",
    "Q3 = df['sbp'].quantile(0.75)\n",
    "IQR = Q3 - Q1\n",
    "print('sbp IQR= '+str(IQR))\n",
    "Lower_Fence = Q1 - (1.5 * IQR)\n",
    "Upper_Fence = Q3 + (1.5 * IQR)\n",
    "print('Lower inner fence= '+str(Lower_Fence))\n",
    "print('Upeer inner fence = '+str(Upper_Fence))\n",
    "Lower_Fence = Q1 - (3 * IQR)\n",
    "Upper_Fence = Q3 + (3 * IQR)\n",
    "print('Lower outer fence= '+str(Lower_Fence))\n",
    "print('Upper outer fence='+str(Upper_Fence))"
   ]
  },
  {
   "cell_type": "code",
   "execution_count": 16,
   "id": "ff9e4c4d",
   "metadata": {},
   "outputs": [
    {
     "name": "stdout",
     "output_type": "stream",
     "text": [
      "tobacco IQR= 5.4475\n",
      "Lower inner fence= -8.11875\n",
      "Upeer inner fence = 13.67125\n",
      "Lower outer fence= -16.290000000000003\n",
      "Upper outer fence= 21.8425\n"
     ]
    }
   ],
   "source": [
    "#tobacco\n",
    "Q1 = df['tobacco'].quantile(0.25)\n",
    "Q3 = df['tobacco'].quantile(0.75)\n",
    "IQR = Q3 - Q1\n",
    "print('tobacco IQR= '+str(IQR))\n",
    "Lower_Fence = Q1 - (1.5 * IQR)\n",
    "Upper_Fence = Q3 + (1.5 * IQR)\n",
    "print('Lower inner fence= '+str(Lower_Fence))\n",
    "print('Upeer inner fence = '+str(Upper_Fence))\n",
    "Lower_Fence = Q1 - (3 * IQR)\n",
    "Upper_Fence = Q3 + (3 * IQR)\n",
    "print('Lower outer fence= '+str(Lower_Fence))\n",
    "print('Upper outer fence= '+str(Upper_Fence))"
   ]
  },
  {
   "cell_type": "code",
   "execution_count": 17,
   "id": "8884d199",
   "metadata": {},
   "outputs": [
    {
     "name": "stdout",
     "output_type": "stream",
     "text": [
      "ldl IQR= 2.5075000000000003\n",
      "Lower inner fence= -0.4787500000000007\n",
      "Upeer inner fence = 9.55125\n",
      "Lower outer fence= -4.240000000000001\n",
      "Upper outer fence= 13.3125\n"
     ]
    }
   ],
   "source": [
    "#ldl\n",
    "Q1 = df['ldl'].quantile(0.25)\n",
    "Q3 = df['ldl'].quantile(0.75)\n",
    "IQR = Q3 - Q1\n",
    "print('ldl IQR= '+str(IQR))\n",
    "Lower_Fence = Q1 - (1.5 * IQR)\n",
    "Upper_Fence = Q3 + (1.5 * IQR)\n",
    "print('Lower inner fence= '+str(Lower_Fence))\n",
    "print('Upeer inner fence = '+str(Upper_Fence))\n",
    "Lower_Fence = Q1 - (3 * IQR)\n",
    "Upper_Fence = Q3 + (3 * IQR)\n",
    "print('Lower outer fence= '+str(Lower_Fence))\n",
    "print('Upper outer fence= '+str(Upper_Fence))"
   ]
  },
  {
   "cell_type": "code",
   "execution_count": 18,
   "id": "df85dfd5",
   "metadata": {},
   "outputs": [
    {
     "name": "stdout",
     "output_type": "stream",
     "text": [
      "adiposity IQR= 11.439999999999998\n",
      "Lower inner fence= 2.690000000000005\n",
      "Upeer inner fence = 48.449999999999996\n",
      "Lower outer fence= -14.469999999999992\n",
      "Upper outer fence= 65.60999999999999\n"
     ]
    }
   ],
   "source": [
    "#adiposity\n",
    "Q1 = df['adiposity'].quantile(0.25)\n",
    "Q3 = df['adiposity'].quantile(0.75)\n",
    "IQR = Q3 - Q1\n",
    "print('adiposity IQR= '+str(IQR))\n",
    "Lower_Fence = Q1 - (1.5 * IQR)\n",
    "Upper_Fence = Q3 + (1.5 * IQR)\n",
    "print('Lower inner fence= '+str(Lower_Fence))\n",
    "print('Upeer inner fence = '+str(Upper_Fence))\n",
    "Lower_Fence = Q1 - (3 * IQR)\n",
    "Upper_Fence = Q3 + (3 * IQR)\n",
    "print('Lower outer fence= '+str(Lower_Fence))\n",
    "print('Upper outer fence= '+str(Upper_Fence))"
   ]
  },
  {
   "cell_type": "code",
   "execution_count": 19,
   "id": "5a40a507",
   "metadata": {},
   "outputs": [
    {
     "name": "stdout",
     "output_type": "stream",
     "text": [
      "typea IQR= 13.0\n",
      "Lower inner fence= 27.5\n",
      "Upeer inner fence = 79.5\n",
      "Lower outer fence= 8.0\n",
      "Upper outer fence= 99.0\n"
     ]
    }
   ],
   "source": [
    "#typea\n",
    "Q1 = df['typea'].quantile(0.25)\n",
    "Q3 = df['typea'].quantile(0.75)\n",
    "IQR = Q3 - Q1\n",
    "print('typea IQR= '+str(IQR))\n",
    "Lower_Fence = Q1 - (1.5 * IQR)\n",
    "Upper_Fence = Q3 + (1.5 * IQR)\n",
    "print('Lower inner fence= '+str(Lower_Fence))\n",
    "print('Upeer inner fence = '+str(Upper_Fence))\n",
    "Lower_Fence = Q1 - (3 * IQR)\n",
    "Upper_Fence = Q3 + (3 * IQR)\n",
    "print('Lower outer fence= '+str(Lower_Fence))\n",
    "print('Upper outer fence= '+str(Upper_Fence))"
   ]
  },
  {
   "cell_type": "code",
   "execution_count": 20,
   "id": "99cd5470",
   "metadata": {},
   "outputs": [
    {
     "name": "stdout",
     "output_type": "stream",
     "text": [
      "obesity IQR= 5.512499999999999\n",
      "Lower inner fence= 14.71625\n",
      "Upeer inner fence = 36.76625\n",
      "Lower outer fence= 6.447500000000002\n",
      "Upper outer fence= 45.035\n"
     ]
    }
   ],
   "source": [
    "#obesity\n",
    "Q1 = df['obesity'].quantile(0.25)\n",
    "Q3 = df['obesity'].quantile(0.75)\n",
    "IQR = Q3 - Q1\n",
    "print('obesity IQR= '+str(IQR))\n",
    "Lower_Fence = Q1 - (1.5 * IQR)\n",
    "Upper_Fence = Q3 + (1.5 * IQR)\n",
    "print('Lower inner fence= '+str(Lower_Fence))\n",
    "print('Upeer inner fence = '+str(Upper_Fence))\n",
    "Lower_Fence = Q1 - (3 * IQR)\n",
    "Upper_Fence = Q3 + (3 * IQR)\n",
    "print('Lower outer fence= '+str(Lower_Fence))\n",
    "print('Upper outer fence= '+str(Upper_Fence))"
   ]
  },
  {
   "cell_type": "code",
   "execution_count": 21,
   "id": "c9837edd",
   "metadata": {},
   "outputs": [
    {
     "name": "stdout",
     "output_type": "stream",
     "text": [
      "alcohol IQR= 23.459999999999997\n",
      "Lower inner fence= -34.68\n",
      "Upeer inner fence = 59.16\n",
      "Lower outer fence= -69.86999999999999\n",
      "Upper outer fence= 94.35\n"
     ]
    }
   ],
   "source": [
    "#alcohol\n",
    "Q1 = df['alcohol'].quantile(0.25)\n",
    "Q3 = df['alcohol'].quantile(0.75)\n",
    "IQR = Q3 - Q1\n",
    "print('alcohol IQR= '+str(IQR))\n",
    "Lower_Fence = Q1 - (1.5 * IQR)\n",
    "Upper_Fence = Q3 + (1.5 * IQR)\n",
    "print('Lower inner fence= '+str(Lower_Fence))\n",
    "print('Upeer inner fence = '+str(Upper_Fence))\n",
    "Lower_Fence = Q1 - (3 * IQR)\n",
    "Upper_Fence = Q3 + (3 * IQR)\n",
    "print('Lower outer fence= '+str(Lower_Fence))\n",
    "print('Upper outer fence= '+str(Upper_Fence))"
   ]
  },
  {
   "cell_type": "code",
   "execution_count": 22,
   "id": "2ddc101a",
   "metadata": {},
   "outputs": [
    {
     "name": "stdout",
     "output_type": "stream",
     "text": [
      "age IQR= 24.0\n",
      "Lower inner fence= -5.0\n",
      "Upeer inner fence = 91.0\n",
      "Lower outer fence= -41.0\n",
      "Upper outer fence= 127.0\n"
     ]
    }
   ],
   "source": [
    "#age\n",
    "Q1 = df['age'].quantile(0.25)\n",
    "Q3 = df['age'].quantile(0.75)\n",
    "IQR = Q3 - Q1\n",
    "print('age IQR= '+str(IQR))\n",
    "Lower_Fence = Q1 - (1.5 * IQR)\n",
    "Upper_Fence = Q3 + (1.5 * IQR)\n",
    "print('Lower inner fence= '+str(Lower_Fence))\n",
    "print('Upeer inner fence = '+str(Upper_Fence))\n",
    "Lower_Fence = Q1 - (3 * IQR)\n",
    "Upper_Fence = Q3 + (3 * IQR)\n",
    "print('Lower outer fence= '+str(Lower_Fence))\n",
    "print('Upper outer fence= '+str(Upper_Fence))"
   ]
  },
  {
   "cell_type": "markdown",
   "id": "99465e99",
   "metadata": {},
   "source": [
    "##### 5. Duplication "
   ]
  },
  {
   "cell_type": "code",
   "execution_count": 23,
   "id": "8baddbf6",
   "metadata": {},
   "outputs": [
    {
     "data": {
      "text/plain": [
       "0"
      ]
     },
     "execution_count": 23,
     "metadata": {},
     "output_type": "execute_result"
    }
   ],
   "source": [
    "df.duplicated().sum()"
   ]
  }
 ],
 "metadata": {
  "kernelspec": {
   "display_name": "Python 3 (ipykernel)",
   "language": "python",
   "name": "python3"
  },
  "language_info": {
   "codemirror_mode": {
    "name": "ipython",
    "version": 3
   },
   "file_extension": ".py",
   "mimetype": "text/x-python",
   "name": "python",
   "nbconvert_exporter": "python",
   "pygments_lexer": "ipython3",
   "version": "3.9.6"
  }
 },
 "nbformat": 4,
 "nbformat_minor": 5
}
