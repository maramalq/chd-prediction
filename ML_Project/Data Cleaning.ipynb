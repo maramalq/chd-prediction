{
 "cells": [
  {
   "cell_type": "markdown",
   "id": "4a0ad174",
   "metadata": {},
   "source": [
    "# Data Cleaning"
   ]
  },
  {
   "cell_type": "code",
   "execution_count": 1,
   "id": "35d524e9",
   "metadata": {},
   "outputs": [],
   "source": [
    "# hide warnings\n",
    "import warnings\n",
    "warnings.filterwarnings('ignore')"
   ]
  },
  {
   "cell_type": "code",
   "execution_count": 2,
   "id": "77703dde",
   "metadata": {},
   "outputs": [],
   "source": [
    "# import libraries\n",
    "import numpy as np\n",
    "import pandas as pd\n",
    "import statistics\n",
    "import matplotlib.pyplot as plt\n",
    "%matplotlib inline\n",
    "import pylab as plt\n",
    "import seaborn as sns"
   ]
  },
  {
   "cell_type": "code",
   "execution_count": 3,
   "id": "2fb1aa49",
   "metadata": {},
   "outputs": [
    {
     "data": {
      "text/html": [
       "<div>\n",
       "<style scoped>\n",
       "    .dataframe tbody tr th:only-of-type {\n",
       "        vertical-align: middle;\n",
       "    }\n",
       "\n",
       "    .dataframe tbody tr th {\n",
       "        vertical-align: top;\n",
       "    }\n",
       "\n",
       "    .dataframe thead th {\n",
       "        text-align: right;\n",
       "    }\n",
       "</style>\n",
       "<table border=\"1\" class=\"dataframe\">\n",
       "  <thead>\n",
       "    <tr style=\"text-align: right;\">\n",
       "      <th></th>\n",
       "      <th>sbp</th>\n",
       "      <th>tobacco</th>\n",
       "      <th>ldl</th>\n",
       "      <th>adiposity</th>\n",
       "      <th>famhist</th>\n",
       "      <th>typea</th>\n",
       "      <th>obesity</th>\n",
       "      <th>alcohol</th>\n",
       "      <th>age</th>\n",
       "      <th>chd</th>\n",
       "    </tr>\n",
       "  </thead>\n",
       "  <tbody>\n",
       "    <tr>\n",
       "      <th>0</th>\n",
       "      <td>160.0</td>\n",
       "      <td>12.00</td>\n",
       "      <td>5.73</td>\n",
       "      <td>23.11</td>\n",
       "      <td>Present</td>\n",
       "      <td>49</td>\n",
       "      <td>25.30</td>\n",
       "      <td>97.20</td>\n",
       "      <td>52</td>\n",
       "      <td>1</td>\n",
       "    </tr>\n",
       "    <tr>\n",
       "      <th>1</th>\n",
       "      <td>144.0</td>\n",
       "      <td>0.01</td>\n",
       "      <td>4.41</td>\n",
       "      <td>28.61</td>\n",
       "      <td>Absent</td>\n",
       "      <td>55</td>\n",
       "      <td>28.87</td>\n",
       "      <td>2.06</td>\n",
       "      <td>63</td>\n",
       "      <td>1</td>\n",
       "    </tr>\n",
       "    <tr>\n",
       "      <th>2</th>\n",
       "      <td>118.0</td>\n",
       "      <td>0.08</td>\n",
       "      <td>3.48</td>\n",
       "      <td>32.28</td>\n",
       "      <td>Present</td>\n",
       "      <td>52</td>\n",
       "      <td>29.14</td>\n",
       "      <td>3.81</td>\n",
       "      <td>46</td>\n",
       "      <td>0</td>\n",
       "    </tr>\n",
       "    <tr>\n",
       "      <th>3</th>\n",
       "      <td>170.0</td>\n",
       "      <td>7.50</td>\n",
       "      <td>6.41</td>\n",
       "      <td>38.03</td>\n",
       "      <td>Present</td>\n",
       "      <td>51</td>\n",
       "      <td>31.99</td>\n",
       "      <td>24.26</td>\n",
       "      <td>58</td>\n",
       "      <td>1</td>\n",
       "    </tr>\n",
       "    <tr>\n",
       "      <th>4</th>\n",
       "      <td>134.0</td>\n",
       "      <td>13.60</td>\n",
       "      <td>3.50</td>\n",
       "      <td>27.78</td>\n",
       "      <td>Present</td>\n",
       "      <td>60</td>\n",
       "      <td>25.99</td>\n",
       "      <td>57.34</td>\n",
       "      <td>49</td>\n",
       "      <td>1</td>\n",
       "    </tr>\n",
       "  </tbody>\n",
       "</table>\n",
       "</div>"
      ],
      "text/plain": [
       "     sbp  tobacco   ldl  adiposity  famhist  typea  obesity  alcohol  age  chd\n",
       "0  160.0    12.00  5.73      23.11  Present     49    25.30    97.20   52    1\n",
       "1  144.0     0.01  4.41      28.61   Absent     55    28.87     2.06   63    1\n",
       "2  118.0     0.08  3.48      32.28  Present     52    29.14     3.81   46    0\n",
       "3  170.0     7.50  6.41      38.03  Present     51    31.99    24.26   58    1\n",
       "4  134.0    13.60  3.50      27.78  Present     60    25.99    57.34   49    1"
      ]
     },
     "execution_count": 3,
     "metadata": {},
     "output_type": "execute_result"
    }
   ],
   "source": [
    "# loading data\n",
    "df = pd.read_csv(\"Disease.csv\" , sep=';')\n",
    "del df['ind']\n",
    "df.head()"
   ]
  },
  {
   "cell_type": "markdown",
   "id": "77cc309e",
   "metadata": {},
   "source": [
    "### 1. Dealing with missing values"
   ]
  },
  {
   "cell_type": "code",
   "execution_count": 4,
   "id": "85ade85b",
   "metadata": {},
   "outputs": [
    {
     "data": {
      "text/html": [
       "<div>\n",
       "<style scoped>\n",
       "    .dataframe tbody tr th:only-of-type {\n",
       "        vertical-align: middle;\n",
       "    }\n",
       "\n",
       "    .dataframe tbody tr th {\n",
       "        vertical-align: top;\n",
       "    }\n",
       "\n",
       "    .dataframe thead th {\n",
       "        text-align: right;\n",
       "    }\n",
       "</style>\n",
       "<table border=\"1\" class=\"dataframe\">\n",
       "  <thead>\n",
       "    <tr style=\"text-align: right;\">\n",
       "      <th></th>\n",
       "      <th>missing count:</th>\n",
       "      <th>missing percent</th>\n",
       "    </tr>\n",
       "  </thead>\n",
       "  <tbody>\n",
       "    <tr>\n",
       "      <th>sbp</th>\n",
       "      <td>1</td>\n",
       "      <td>0.21645</td>\n",
       "    </tr>\n",
       "    <tr>\n",
       "      <th>tobacco</th>\n",
       "      <td>0</td>\n",
       "      <td>0.00000</td>\n",
       "    </tr>\n",
       "    <tr>\n",
       "      <th>ldl</th>\n",
       "      <td>0</td>\n",
       "      <td>0.00000</td>\n",
       "    </tr>\n",
       "    <tr>\n",
       "      <th>adiposity</th>\n",
       "      <td>1</td>\n",
       "      <td>0.21645</td>\n",
       "    </tr>\n",
       "    <tr>\n",
       "      <th>famhist</th>\n",
       "      <td>0</td>\n",
       "      <td>0.00000</td>\n",
       "    </tr>\n",
       "    <tr>\n",
       "      <th>typea</th>\n",
       "      <td>0</td>\n",
       "      <td>0.00000</td>\n",
       "    </tr>\n",
       "    <tr>\n",
       "      <th>obesity</th>\n",
       "      <td>0</td>\n",
       "      <td>0.00000</td>\n",
       "    </tr>\n",
       "    <tr>\n",
       "      <th>alcohol</th>\n",
       "      <td>1</td>\n",
       "      <td>0.21645</td>\n",
       "    </tr>\n",
       "    <tr>\n",
       "      <th>age</th>\n",
       "      <td>0</td>\n",
       "      <td>0.00000</td>\n",
       "    </tr>\n",
       "    <tr>\n",
       "      <th>chd</th>\n",
       "      <td>0</td>\n",
       "      <td>0.00000</td>\n",
       "    </tr>\n",
       "  </tbody>\n",
       "</table>\n",
       "</div>"
      ],
      "text/plain": [
       "           missing count:  missing percent\n",
       "sbp                     1          0.21645\n",
       "tobacco                 0          0.00000\n",
       "ldl                     0          0.00000\n",
       "adiposity               1          0.21645\n",
       "famhist                 0          0.00000\n",
       "typea                   0          0.00000\n",
       "obesity                 0          0.00000\n",
       "alcohol                 1          0.21645\n",
       "age                     0          0.00000\n",
       "chd                     0          0.00000"
      ]
     },
     "execution_count": 4,
     "metadata": {},
     "output_type": "execute_result"
    }
   ],
   "source": [
    "missing_count = df.isnull().sum()\n",
    "percent_missing = df.isnull().sum() * 100 / len(df)\n",
    "missing_value_df = pd.DataFrame({'missing count:' : missing_count ,\n",
    "                                 'missing percent': percent_missing})\n",
    "missing_value_df"
   ]
  },
  {
   "cell_type": "code",
   "execution_count": 5,
   "id": "7f15b7b2",
   "metadata": {},
   "outputs": [],
   "source": [
    "df = df.dropna(axis=0)"
   ]
  },
  {
   "cell_type": "code",
   "execution_count": 6,
   "id": "45668074",
   "metadata": {},
   "outputs": [
    {
     "data": {
      "text/plain": [
       "sbp          0\n",
       "tobacco      0\n",
       "ldl          0\n",
       "adiposity    0\n",
       "famhist      0\n",
       "typea        0\n",
       "obesity      0\n",
       "alcohol      0\n",
       "age          0\n",
       "chd          0\n",
       "dtype: int64"
      ]
     },
     "execution_count": 6,
     "metadata": {},
     "output_type": "execute_result"
    }
   ],
   "source": [
    "df.isnull().sum()"
   ]
  },
  {
   "cell_type": "markdown",
   "id": "7b8f8aaa",
   "metadata": {},
   "source": [
    "### 2. Dealing with Irregular Data (Outliers)"
   ]
  },
  {
   "cell_type": "code",
   "execution_count": 7,
   "id": "637b8ccf",
   "metadata": {},
   "outputs": [],
   "source": [
    "#sbp\n",
    "df[\"sbp\"] = df[\"sbp\"].map(\n",
    "    lambda x: 184.0 if x > 184.0 else x\n",
    ")"
   ]
  },
  {
   "cell_type": "code",
   "execution_count": 8,
   "id": "d8f2b4af",
   "metadata": {},
   "outputs": [],
   "source": [
    "#tobacco\n",
    "df[\"tobacco\"] = df[\"tobacco\"].map(\n",
    "    lambda x: 13.67125 if x > 13.67125 else x\n",
    ")"
   ]
  },
  {
   "cell_type": "code",
   "execution_count": 9,
   "id": "84e47dc4",
   "metadata": {},
   "outputs": [],
   "source": [
    "#LDL\n",
    "df[\"ldl\"] = df[\"ldl\"].map(\n",
    "    lambda x: 9.55125 if x > 9.55125 else x\n",
    ")"
   ]
  },
  {
   "cell_type": "code",
   "execution_count": 10,
   "id": "504549c2",
   "metadata": {},
   "outputs": [],
   "source": [
    "#typea\n",
    "df[\"typea\"] = df[\"typea\"].map(\n",
    "    lambda x: 27.5 if x < 27.5 else x\n",
    ")"
   ]
  },
  {
   "cell_type": "code",
   "execution_count": 11,
   "id": "ed081b5e",
   "metadata": {},
   "outputs": [],
   "source": [
    "#obesity\n",
    "df[\"obesity\"] = df[\"obesity\"].map(\n",
    "    lambda x: 36.76625 if x > 36.76625 else x\n",
    ")\n",
    "\n",
    "df[\"obesity\"] = df[\"obesity\"].map(\n",
    "    lambda x: 14.71625 if x < 14.71625 else x\n",
    ")"
   ]
  },
  {
   "cell_type": "code",
   "execution_count": 12,
   "id": "f35348d0",
   "metadata": {},
   "outputs": [],
   "source": [
    "#alcohol\n",
    "df[\"alcohol\"] = df[\"alcohol\"].map(\n",
    "    lambda x: 59.16 if x > 59.16 else x\n",
    ")"
   ]
  },
  {
   "cell_type": "code",
   "execution_count": 13,
   "id": "dae75a28",
   "metadata": {},
   "outputs": [
    {
     "data": {
      "image/png": "[encoded data removed]",
      "text/plain": [
       "<Figure size 720x432 with 8 Axes>"
      ]
     },
     "metadata": {
      "needs_background": "light"
     },
     "output_type": "display_data"
    }
   ],
   "source": [
    "fig = plt.figure(figsize =(10, 7))\n",
    "\n",
    "plt.subplot(241)\n",
    "df['sbp'].plot.box(figsize=(10,6), color ='#5ab3b4' )\n",
    "plt.tight_layout(pad=0.5)\n",
    "plt.subplot(242)\n",
    "df['tobacco'].plot.box( color ='#5ab3b4')\n",
    "plt.tight_layout(pad=0.5)\n",
    "plt.subplot(243)\n",
    "df['ldl'].plot.box(color ='#5ab3b4')\n",
    "plt.tight_layout(pad=0.5)\n",
    "plt.subplot(244)\n",
    "df['adiposity'].plot.box(color ='#5ab3b4')\n",
    "plt.tight_layout(pad=0.5)\n",
    "\n",
    "plt.subplot(245)\n",
    "df['typea'].plot.box(color ='#5ab3b4')\n",
    "plt.tight_layout(pad=0.5)\n",
    "plt.subplot(246)\n",
    "df['obesity'].plot.box(color ='#5ab3b4')\n",
    "plt.tight_layout(pad=0.5)\n",
    "plt.subplot(247)\n",
    "df['alcohol'].plot.box(color ='#5ab3b4')\n",
    "plt.tight_layout(pad=0.5)\n",
    "plt.subplot(248)\n",
    "df['age'].plot.box(color ='#5ab3b4')\n",
    "plt.tight_layout(pad=0.5)"
   ]
  },
  {
   "cell_type": "code",
   "execution_count": 14,
   "id": "845c3853",
   "metadata": {},
   "outputs": [],
   "source": [
    "df.to_csv('cleaned_disease.csv',index=False)"
   ]
  }
 ],
 "metadata": {
  "kernelspec": {
   "display_name": "Python 3 (ipykernel)",
   "language": "python",
   "name": "python3"
  },
  "language_info": {
   "codemirror_mode": {
    "name": "ipython",
    "version": 3
   },
   "file_extension": ".py",
   "mimetype": "text/x-python",
   "name": "python",
   "nbconvert_exporter": "python",
   "pygments_lexer": "ipython3",
   "version": "3.9.6"
  }
 },
 "nbformat": 4,
 "nbformat_minor": 5
}
